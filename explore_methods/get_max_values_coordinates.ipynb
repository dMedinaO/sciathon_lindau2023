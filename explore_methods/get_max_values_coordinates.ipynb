{
 "cells": [
  {
   "cell_type": "code",
   "execution_count": 5,
   "metadata": {},
   "outputs": [
    {
     "name": "stderr",
     "output_type": "stream",
     "text": [
      "/home/dmedina/miniconda3/envs/data_driven_library/lib/python3.9/site-packages/Bio/PDB/StructureBuilder.py:89: PDBConstructionWarning: WARNING: Chain A is discontinuous at line 7945.\n",
      "  warnings.warn(\n",
      "/home/dmedina/miniconda3/envs/data_driven_library/lib/python3.9/site-packages/Bio/PDB/StructureBuilder.py:89: PDBConstructionWarning: WARNING: Chain B is discontinuous at line 8016.\n",
      "  warnings.warn(\n",
      "/home/dmedina/miniconda3/envs/data_driven_library/lib/python3.9/site-packages/Bio/PDB/StructureBuilder.py:89: PDBConstructionWarning: WARNING: Chain A is discontinuous at line 8088.\n",
      "  warnings.warn(\n",
      "/home/dmedina/miniconda3/envs/data_driven_library/lib/python3.9/site-packages/Bio/PDB/StructureBuilder.py:89: PDBConstructionWarning: WARNING: Chain B is discontinuous at line 8091.\n",
      "  warnings.warn(\n"
     ]
    }
   ],
   "source": [
    "from Bio.PDB import PDBParser\n",
    "import pandas as pd\n",
    "\n",
    "parser = PDBParser()\n",
    "\n",
    "structure = parser.get_structure(\"process\", \"../pdb_structure/2D6.pdb\")\n"
   ]
  },
  {
   "cell_type": "code",
   "execution_count": 6,
   "metadata": {},
   "outputs": [
    {
     "data": {
      "text/html": [
       "<div>\n",
       "<style scoped>\n",
       "    .dataframe tbody tr th:only-of-type {\n",
       "        vertical-align: middle;\n",
       "    }\n",
       "\n",
       "    .dataframe tbody tr th {\n",
       "        vertical-align: top;\n",
       "    }\n",
       "\n",
       "    .dataframe thead th {\n",
       "        text-align: right;\n",
       "    }\n",
       "</style>\n",
       "<table border=\"1\" class=\"dataframe\">\n",
       "  <thead>\n",
       "    <tr style=\"text-align: right;\">\n",
       "      <th></th>\n",
       "      <th>x</th>\n",
       "      <th>y</th>\n",
       "      <th>z</th>\n",
       "    </tr>\n",
       "  </thead>\n",
       "  <tbody>\n",
       "    <tr>\n",
       "      <th>count</th>\n",
       "      <td>7445.000000</td>\n",
       "      <td>7445.000000</td>\n",
       "      <td>7445.000000</td>\n",
       "    </tr>\n",
       "    <tr>\n",
       "      <th>mean</th>\n",
       "      <td>7.854636</td>\n",
       "      <td>-12.325704</td>\n",
       "      <td>26.383463</td>\n",
       "    </tr>\n",
       "    <tr>\n",
       "      <th>std</th>\n",
       "      <td>27.162226</td>\n",
       "      <td>12.303593</td>\n",
       "      <td>15.454271</td>\n",
       "    </tr>\n",
       "    <tr>\n",
       "      <th>min</th>\n",
       "      <td>-48.727001</td>\n",
       "      <td>-43.159000</td>\n",
       "      <td>-11.013000</td>\n",
       "    </tr>\n",
       "    <tr>\n",
       "      <th>25%</th>\n",
       "      <td>-14.656000</td>\n",
       "      <td>-21.218000</td>\n",
       "      <td>14.353000</td>\n",
       "    </tr>\n",
       "    <tr>\n",
       "      <th>50%</th>\n",
       "      <td>6.971000</td>\n",
       "      <td>-11.897000</td>\n",
       "      <td>27.232000</td>\n",
       "    </tr>\n",
       "    <tr>\n",
       "      <th>75%</th>\n",
       "      <td>31.909000</td>\n",
       "      <td>-3.250000</td>\n",
       "      <td>38.161999</td>\n",
       "    </tr>\n",
       "    <tr>\n",
       "      <th>max</th>\n",
       "      <td>63.351002</td>\n",
       "      <td>22.461000</td>\n",
       "      <td>62.859001</td>\n",
       "    </tr>\n",
       "  </tbody>\n",
       "</table>\n",
       "</div>"
      ],
      "text/plain": [
       "                 x            y            z\n",
       "count  7445.000000  7445.000000  7445.000000\n",
       "mean      7.854636   -12.325704    26.383463\n",
       "std      27.162226    12.303593    15.454271\n",
       "min     -48.727001   -43.159000   -11.013000\n",
       "25%     -14.656000   -21.218000    14.353000\n",
       "50%       6.971000   -11.897000    27.232000\n",
       "75%      31.909000    -3.250000    38.161999\n",
       "max      63.351002    22.461000    62.859001"
      ]
     },
     "execution_count": 6,
     "metadata": {},
     "output_type": "execute_result"
    }
   ],
   "source": [
    "matrix_data = []\n",
    "\n",
    "for element in structure.get_atoms():\n",
    "    value = element.get_vector()\n",
    "    row = [pos for pos in value]\n",
    "    matrix_data.append(row)\n",
    "\n",
    "df_data = pd.DataFrame(matrix_data, columns=['x', 'y', 'z'])\n",
    "df_data.describe()\n"
   ]
  }
 ],
 "metadata": {
  "kernelspec": {
   "display_name": "data_driven_library",
   "language": "python",
   "name": "python3"
  },
  "language_info": {
   "codemirror_mode": {
    "name": "ipython",
    "version": 3
   },
   "file_extension": ".py",
   "mimetype": "text/x-python",
   "name": "python",
   "nbconvert_exporter": "python",
   "pygments_lexer": "ipython3",
   "version": "3.9.16"
  },
  "orig_nbformat": 4,
  "vscode": {
   "interpreter": {
    "hash": "719ac6498791fc2cdf3fdd830342d329111fbbe3a5d8330fcacca33925f1200b"
   }
  }
 },
 "nbformat": 4,
 "nbformat_minor": 2
}
