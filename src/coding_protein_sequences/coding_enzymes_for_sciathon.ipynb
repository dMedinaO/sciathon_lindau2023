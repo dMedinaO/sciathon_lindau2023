{
 "cells": [
  {
   "cell_type": "code",
   "execution_count": 1,
   "metadata": {},
   "outputs": [
    {
     "name": "stderr",
     "output_type": "stream",
     "text": [
      "/home/dmedina/miniconda3/envs/data_driven_library/lib/python3.9/site-packages/tqdm/auto.py:22: TqdmWarning: IProgress not found. Please update jupyter and ipywidgets. See https://ipywidgets.readthedocs.io/en/stable/user_install.html\n",
      "  from .autonotebook import tqdm as notebook_tqdm\n"
     ]
    }
   ],
   "source": [
    "import pandas as pd\n",
    "from lib.apply_pretrained_models import using_bioembedding\n"
   ]
  },
  {
   "cell_type": "code",
   "execution_count": 8,
   "metadata": {},
   "outputs": [],
   "source": [
    "input_data = pd.read_csv(\"../../input_data/new_enzymes_to_check.csv\")\n",
    "column_with_id = \"id_seq\"\n",
    "column_with_seq = \"seq\"\n",
    "path_export = \"../../data_to_sciathon_new/\""
   ]
  },
  {
   "cell_type": "code",
   "execution_count": 6,
   "metadata": {},
   "outputs": [],
   "source": [
    "using_bioembedding_instance = using_bioembedding(\n",
    "    dataset=input_data,\n",
    "    id_seq=column_with_id,\n",
    "    column_seq=column_with_seq,\n",
    "    is_reduced=True,\n",
    "    device = 'cuda'\n",
    ")"
   ]
  },
  {
   "cell_type": "code",
   "execution_count": 9,
   "metadata": {},
   "outputs": [
    {
     "name": "stdout",
     "output_type": "stream",
     "text": [
      "Apply glove\n"
     ]
    },
    {
     "name": "stderr",
     "output_type": "stream",
     "text": [
      "Reducing embeddings: 26it [00:00, 488.86it/s]\n"
     ]
    }
   ],
   "source": [
    "print(\"Apply glove\")\n",
    "using_bioembedding_instance.apply_glove()\n",
    "\n",
    "header = [\"p_{}\".format(i) for i in range(len(using_bioembedding_instance.np_data[0]))]\n",
    "df_data = pd.DataFrame(using_bioembedding_instance.np_data, columns=header)\n",
    "df_data[column_with_id] = input_data[column_with_id]\n",
    "df_data['type'] = input_data['type']\n",
    "\n",
    "df_data.to_csv(\"{}glove.csv\".format(path_export), index=False)"
   ]
  }
 ],
 "metadata": {
  "kernelspec": {
   "display_name": "data_driven_library",
   "language": "python",
   "name": "python3"
  },
  "language_info": {
   "codemirror_mode": {
    "name": "ipython",
    "version": 3
   },
   "file_extension": ".py",
   "mimetype": "text/x-python",
   "name": "python",
   "nbconvert_exporter": "python",
   "pygments_lexer": "ipython3",
   "version": "3.9.16"
  },
  "orig_nbformat": 4,
  "vscode": {
   "interpreter": {
    "hash": "719ac6498791fc2cdf3fdd830342d329111fbbe3a5d8330fcacca33925f1200b"
   }
  }
 },
 "nbformat": 4,
 "nbformat_minor": 2
}
